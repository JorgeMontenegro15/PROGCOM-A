{
  "nbformat": 4,
  "nbformat_minor": 0,
  "metadata": {
    "colab": {
      "provenance": []
    },
    "kernelspec": {
      "name": "python3",
      "display_name": "Python 3"
    },
    "language_info": {
      "name": "python"
    }
  },
  "cells": [
    {
      "cell_type": "markdown",
      "source": [
        "##Switches\n",
        "son estructuras de seleccion que sirven para evaluar mas de uan condicion de verdad  ofrecer diferentes evaluaciones de verdad\n",
        "\n",
        "```\n",
        "if (condicion):\n",
        "Aqui entra si la condicion es verdadera\n",
        "elif (condicion2):\n",
        "Aqui entra si la condicion 2 es verdadera\n",
        "elif (condicion3):\n",
        "Aqui entra si la condicion3 es verdadera\n",
        "elif (condicionn):\n",
        "Aqui entra si la condicion n es verdadera\n",
        "else: aqui va si ninguna de las condiciones es verdadera\n",
        "\n",
        "\n",
        "```\n",
        "Version 2 (nueva)\n",
        "```\n",
        "match (variable):\n",
        " case(valor):\n",
        "  aqui pasa algo si\n",
        "  variable=valor\n",
        " case(valor2):\n",
        "  aqui pasa algo si\n",
        "  variable=valor2\n",
        " case(valor3):\n",
        " aqui pasa algo si\n",
        " variable=valor3\n",
        " case(valorn):\n",
        " aqui pasa algo si\n",
        " variable=valorn\n",
        " case _: Ninguno de los\n",
        " anteriores\n",
        "\n"
      ],
      "metadata": {
        "id": "qw44WdAAEaoV"
      }
    },
    {
      "cell_type": "code",
      "source": [
        "opc=input(\"Elije un sabor del helado ,3\")\n"
      ],
      "metadata": {
        "colab": {
          "base_uri": "https://localhost:8080/"
        },
        "id": "Ub-7humSIjgp",
        "outputId": "5e289c48-6e32-4215-acd5-6125bcd3f73b"
      },
      "execution_count": null,
      "outputs": [
        {
          "name": "stdout",
          "output_type": "stream",
          "text": [
            "Elije un sabor del helado ,3chocolate\n"
          ]
        }
      ]
    },
    {
      "cell_type": "code",
      "source": [
        "if opc==\"oreo\": print(f\"Usted eligio {opc} y debe de pagar $4500\")\n",
        "elif opc==\"Frutos del bosque\": print(f\"Usted eligio {opc} y debe de pagar $6500\")\n",
        "elif opc==\"menta de chocolate\": print(f\"Usted eligio {opc} y debe de pagar $8500\")\n",
        "elif opc==\"cookie monster\": print(f\"Usted eligio {opc} y debe de pagar $4000\")\n",
        "else: print(f\"No tenemos ese sabor :(.)\")\n"
      ],
      "metadata": {
        "colab": {
          "base_uri": "https://localhost:8080/"
        },
        "id": "fIXzmoGKI3lZ",
        "outputId": "3fa73d56-11dd-4ccf-8304-367b754999ca"
      },
      "execution_count": null,
      "outputs": [
        {
          "output_type": "stream",
          "name": "stdout",
          "text": [
            "No tenemos ese sabor :(.)\n"
          ]
        }
      ]
    },
    {
      "cell_type": "code",
      "source": [
        "match opc:\n",
        "  case \"oreo\":\n",
        "    print(f\"Usted eligio {opc} y debe de pagar $4500\")\n",
        "  case \"Frutos del bosque\": print(f\"Usted eligio {opc} y debe de pagar $6500\")\n",
        "  case \"menta de chocolate\": print(f\"Usted eligio {opc} y debe de pagar $8500\")\n",
        "  case \"cookie monster\": print(f\"Usted eligio {opc} y debe de pagar $4000\")\n",
        "  case _:print(f\"No tenemos ese sabor :(.)\")\n"
      ],
      "metadata": {
        "id": "-Jmo5WoDKume"
      },
      "execution_count": null,
      "outputs": []
    },
    {
      "cell_type": "markdown",
      "source": [
        "## EJERCICIO #6 / IF"
      ],
      "metadata": {
        "id": "uyTyovtlQaBj"
      }
    },
    {
      "cell_type": "code",
      "source": [
        "print(\"Veremos si un numero es par o impar\")\n",
        "## Solicitamos el numero al usuario\n",
        "numero= int(input(\"Digite el numero \"))\n",
        "\n",
        "if numero %2 == 0:\n",
        "  print(\"Su numero es par \")\n",
        "else:\n",
        "  print(\"Su numero es impar \")"
      ],
      "metadata": {
        "colab": {
          "base_uri": "https://localhost:8080/"
        },
        "id": "EFFEG58OQeRs",
        "outputId": "10592614-04c0-465d-92b7-62a12495fd86"
      },
      "execution_count": 2,
      "outputs": [
        {
          "output_type": "stream",
          "name": "stdout",
          "text": [
            "Veremos si un numero es par o impar\n",
            "Digite el numero 23\n",
            "Su numero es impar \n"
          ]
        }
      ]
    },
    {
      "cell_type": "markdown",
      "source": [
        "## EJERCICIO #6 / MATCH\n"
      ],
      "metadata": {
        "id": "Q1dYIJr-QoSj"
      }
    },
    {
      "cell_type": "code",
      "source": [
        "print(\"Veremos si un numero es par o impar\")\n",
        "## Solicitamos el numero al usuario\n",
        "numero= int(input(\"Digite el numero \"))\n",
        "\n",
        "match numero %2 :\n",
        "  case (0):\n",
        "    print(\"Su numero es par\")\n",
        "  case _:\n",
        "    print(\"Su numero es impar\")"
      ],
      "metadata": {
        "colab": {
          "base_uri": "https://localhost:8080/"
        },
        "id": "Hntz0YLKQ9ej",
        "outputId": "767d76a3-6693-4f77-f0d6-3183fca2ffa8"
      },
      "execution_count": 1,
      "outputs": [
        {
          "output_type": "stream",
          "name": "stdout",
          "text": [
            "Veremos si un numero es par o impar\n",
            "Digite el numero 22\n",
            "Su numero es par\n"
          ]
        }
      ]
    },
    {
      "cell_type": "code",
      "source": [
        "## EJERCICIO #7 / IF\n",
        "\n",
        "print(\"Veremos si un año es bisiesto o no\")\n",
        "## Solicitamos el numero al usuario\n",
        "\n",
        "año = int(input(\"Digite su año \"))\n",
        "\n",
        "if año %4 == 0 and año %100 != 0:\n",
        "  print(\"Su año es bisiesto\")\n",
        "elif año %400 == 0:\n",
        "  print(\"Su año es bisiesto\")\n",
        "else:\n",
        "  print(\"Su año no es bisiesto\")"
      ],
      "metadata": {
        "colab": {
          "base_uri": "https://localhost:8080/"
        },
        "id": "_Emjd27GRahk",
        "outputId": "f306f8d1-1f34-4b7d-fbf8-0d48554efdca"
      },
      "execution_count": 3,
      "outputs": [
        {
          "output_type": "stream",
          "name": "stdout",
          "text": [
            "Veremos si un año es bisiesto o no\n",
            "Digite su año 2006\n",
            "Su año no es bisiesto\n"
          ]
        }
      ]
    },
    {
      "cell_type": "code",
      "source": [
        "##EJERCICIO #7 / CASE\n",
        "\n",
        "print(\"Veremos si un año es bisiesto o no\")\n",
        "## Solicitamos el numero al usuario\n",
        "\n",
        "año = int(input(\"Digite su año \"))\n",
        "\n",
        "match año:\n",
        "  case año if año %4 == 0 and año %100 != 0:\n",
        "    print(\"Su año es bisiesto\")\n",
        "  case año if año %400 == 0:\n",
        "    print(\"Su año es bisiesto\")\n",
        "  case _:\n",
        "    print(\"Su año no es bisiesto\")\n"
      ],
      "metadata": {
        "colab": {
          "base_uri": "https://localhost:8080/"
        },
        "id": "Cmp_hiFARdoi",
        "outputId": "eeec7cfa-84f9-40fe-a6d9-e0551592c161"
      },
      "execution_count": 4,
      "outputs": [
        {
          "output_type": "stream",
          "name": "stdout",
          "text": [
            "Veremos si un año es bisiesto o no\n",
            "Digite su año 2007\n",
            "Su año no es bisiesto\n"
          ]
        }
      ]
    },
    {
      "cell_type": "code",
      "source": [
        "## EJERCICIO 8 / IF\n",
        "\n",
        "print(\"Escribe un programa que solicite el nombre del usuario y determine si una persona pertenece a la tercera edad (70 años o más) y si se cumple la condición, imprima que se le da prioridad en la fila.\")\n",
        "\n",
        "## Solicitamos datos al usuario\n",
        "nombre = input(\"Digite su nombre \")\n",
        "edad = int(input(\"Digite su edad \"))\n",
        "## Validamos con un if la edad del usuario y hacemos prints\n",
        "if edad >= 70:\n",
        "  print(\"Usuario\",nombre,\"Tienes prioridad en la fila\")\n",
        "else:\n",
        "  print(\"No tienes prioridad\")"
      ],
      "metadata": {
        "colab": {
          "base_uri": "https://localhost:8080/"
        },
        "id": "5clIM_3YRs6j",
        "outputId": "339f2b32-a83c-4ba4-b085-020bd6baeb30"
      },
      "execution_count": 6,
      "outputs": [
        {
          "output_type": "stream",
          "name": "stdout",
          "text": [
            "Escribe un programa que solicite el nombre del usuario y determine si una persona pertenece a la tercera edad (70 años o más) y si se cumple la condición, imprima que se le da prioridad en la fila.\n",
            "Digite su nombre jorge\n",
            "Digite su edad 19\n",
            "No tienes prioridad\n"
          ]
        }
      ]
    },
    {
      "cell_type": "code",
      "source": [
        "## EJERCICIO 8 / CASE\n",
        "\n",
        "print(\"Escribe un programa que solicite el nombre del usuario y determine si una persona pertenece a la tercera edad (70 años o más) y si se cumple la condición, imprima que se le da prioridad en la fila.\")\n",
        "\n",
        "## Solicitamos datos al usuario\n",
        "nombre = input(\"Digite su nombre \")\n",
        "edad = int(input(\"Digite su edad \"))\n",
        "## Validamos con un if la edad del usuario y hacemos prints\n",
        "\n",
        "match edad:\n",
        "  case edad if edad >= 70:\n",
        "    print(f\"Usuario {nombre} Tienes prioridad en la fila\")\n",
        "  case _:\n",
        "    print(f\" {nombre} No tienes prioridad\")"
      ],
      "metadata": {
        "colab": {
          "base_uri": "https://localhost:8080/"
        },
        "id": "1bYfyJ6YRx7y",
        "outputId": "4922ee6e-a8e9-4be4-fd1f-83dba5adc959"
      },
      "execution_count": 7,
      "outputs": [
        {
          "output_type": "stream",
          "name": "stdout",
          "text": [
            "Escribe un programa que solicite el nombre del usuario y determine si una persona pertenece a la tercera edad (70 años o más) y si se cumple la condición, imprima que se le da prioridad en la fila.\n",
            "Digite su nombre jorge\n",
            "Digite su edad 22\n",
            " jorge No tienes prioridad\n"
          ]
        }
      ]
    },
    {
      "cell_type": "code",
      "source": [
        "## EJERCICIO 9 / IF\n",
        "\n",
        "print(\"Desarrolla un programa que compare tres números y muestre el mayor.\")\n",
        "\n",
        "## Solicitamos numeros al usuario\n",
        "num1 = int(input(\"Digite un numero: \"))\n",
        "num2 = int(input(\"Digite un numero: \"))\n",
        "num3 = int(input(\"Digite un numero: \"))\n",
        "\n",
        "## Formulas de validacion\n",
        "\n",
        "if num1 > num2 and num1 > num3:\n",
        "  print(\"El numero 1 es el mayor\")\n",
        "elif num2 > num1 and num2 > num3:\n",
        "  print(\"El numero 2 es el mayor\")\n",
        "elif num3 > num2 and num3 > num1:\n",
        "  print(\"El numero 3 es el mayor\")"
      ],
      "metadata": {
        "colab": {
          "base_uri": "https://localhost:8080/"
        },
        "id": "eforWxXOSGHS",
        "outputId": "9229b34d-85f9-43ba-9194-5139201788f3"
      },
      "execution_count": 8,
      "outputs": [
        {
          "output_type": "stream",
          "name": "stdout",
          "text": [
            "Desarrolla un programa que compare tres números y muestre el mayor.\n",
            "Digite un numero: 2\n",
            "Digite un numero: 3\n",
            "Digite un numero: 2\n",
            "El numero 2 es el mayor\n"
          ]
        }
      ]
    },
    {
      "cell_type": "code",
      "source": [
        "## EJERCICIO 9 / CASE\n",
        "\n",
        "print(\"Desarrolla un programa que compare tres números y muestre el mayor.\")\n",
        "\n",
        "## Solicitamos numeros al usuario\n",
        "num1 = int(input(\"Digite un numero: \"))\n",
        "num2 = int(input(\"Digite un numero: \"))\n",
        "num3 = int(input(\"Digite un numero: \"))\n",
        "\n",
        "## Formulas de validacion\n",
        "\n",
        "match num1:\n",
        "  case num1 if num1 > num2 and num1 > num3:\n",
        "    print(f\"Numero {num1} es el mayor\")\n",
        "match num2:\n",
        "  case num2 if num2 > num1 and num2 > num3:\n",
        "    print(f\"El numero {num2} es el mayor\")\n",
        "match num3:\n",
        "  case num3 if num3 > num2 and num3 > num1:\n",
        "    print(f\"El numero {num3} es el mayor\")\n",
        "  case _:\n",
        "    print(\"Los numeros son iguales\")"
      ],
      "metadata": {
        "colab": {
          "base_uri": "https://localhost:8080/"
        },
        "id": "5I6lGSuUSKlS",
        "outputId": "3aa115a0-1d1a-45d8-844c-1fbc9c62bd6f"
      },
      "execution_count": 9,
      "outputs": [
        {
          "output_type": "stream",
          "name": "stdout",
          "text": [
            "Desarrolla un programa que compare tres números y muestre el mayor.\n",
            "Digite un numero: 3\n",
            "Digite un numero: 3\n",
            "Digite un numero: 3\n",
            "Los numeros son iguales\n"
          ]
        }
      ]
    },
    {
      "cell_type": "code",
      "source": [
        "## EJERCICIO #10 / IF\n",
        "\n",
        "print(\"Crea un programa que determine si un triángulo es equilátero, isósceles o escaleno según sus lados.\")\n",
        "## Solciitamos los lados del triangulo\n",
        "num1 = int(input(\"Digite un numero: \"))\n",
        "num2 = int(input(\"Digite un numero: \"))\n",
        "num3 = int(input(\"Digite un numero: \"))\n",
        "\n",
        "## Formulas de valiadcion\n",
        "\n",
        "if num1 == num2 and num1 == num3:\n",
        "  print(\"Su triangulo es isoceles\")\n",
        "elif num1 == num2 or num1 == num3 or num2 == num3:\n",
        "  print(\"Su triangulo es equilatero\")\n",
        "else:\n",
        "  print(\"Su triangulo es escaleno\")\n"
      ],
      "metadata": {
        "colab": {
          "base_uri": "https://localhost:8080/"
        },
        "id": "iBgTMxK5SVT6",
        "outputId": "6d140724-f53c-4da3-baa2-83edbe693dbd"
      },
      "execution_count": 10,
      "outputs": [
        {
          "output_type": "stream",
          "name": "stdout",
          "text": [
            "Crea un programa que determine si un triángulo es equilátero, isósceles o escaleno según sus lados.\n",
            "Digite un numero: 2\n",
            "Digite un numero: 1\n",
            "Digite un numero: 1\n",
            "Su triangulo es equilatero\n"
          ]
        }
      ]
    },
    {
      "cell_type": "code",
      "source": [
        "## EJERCICIO #10 / CASE\n",
        "\n",
        "print(\"Crea un programa que determine si un triángulo es equilátero, isósceles o escaleno según sus lados.\")\n",
        "## Solciitamos los lados del triangulo\n",
        "num1 = int(input(\"Digite un numero: \"))\n",
        "num2 = int(input(\"Digite un numero: \"))\n",
        "num3 = int(input(\"Digite un numero: \"))\n",
        "\n",
        "## Formulas de valiadcion\n",
        "match num1:\n",
        "  case num1 if num1 == num2 and num1 == num3:\n",
        "    print(\"Su triangulo es equilatero \")\n",
        "  case num1 if num1 == num2 or num1 == num3 or num2 == num3:\n",
        "    print(\"Su triangulo es isoceles\")\n",
        "  case _:\n",
        "    print(\"Su triangulo es escaleno\")"
      ],
      "metadata": {
        "colab": {
          "base_uri": "https://localhost:8080/"
        },
        "id": "SwXQDeC9SYpK",
        "outputId": "fc4f4953-d76c-4791-ff0e-6ab101608fc8"
      },
      "execution_count": 11,
      "outputs": [
        {
          "output_type": "stream",
          "name": "stdout",
          "text": [
            "Crea un programa que determine si un triángulo es equilátero, isósceles o escaleno según sus lados.\n",
            "Digite un numero: 2\n",
            "Digite un numero: 2\n",
            "Digite un numero: 2\n",
            "Su triangulo es equilatero \n"
          ]
        }
      ]
    }
  ]
}